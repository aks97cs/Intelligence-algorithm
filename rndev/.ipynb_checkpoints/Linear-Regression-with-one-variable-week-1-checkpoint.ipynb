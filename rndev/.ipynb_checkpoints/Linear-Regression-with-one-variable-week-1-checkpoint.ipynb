{
 "cells": [
  {
   "cell_type": "code",
   "execution_count": 1,
   "metadata": {},
   "outputs": [],
   "source": [
    "import numpy as np\n",
    "import pandas as pd\n",
    "import matplotlib.pyplot as plt"
   ]
  },
  {
   "cell_type": "code",
   "execution_count": 50,
   "metadata": {},
   "outputs": [],
   "source": [
    "data = {\n",
    "    'x': [3,1,0,4,9,6,8,11],\n",
    "    'y': [2,2,1,3,4,7,3,2]\n",
    "}"
   ]
  },
  {
   "cell_type": "code",
   "execution_count": 51,
   "metadata": {},
   "outputs": [],
   "source": [
    "df = pd.DataFrame(data)"
   ]
  },
  {
   "cell_type": "code",
   "execution_count": 52,
   "metadata": {},
   "outputs": [
    {
     "data": {
      "text/html": [
       "<div>\n",
       "<style scoped>\n",
       "    .dataframe tbody tr th:only-of-type {\n",
       "        vertical-align: middle;\n",
       "    }\n",
       "\n",
       "    .dataframe tbody tr th {\n",
       "        vertical-align: top;\n",
       "    }\n",
       "\n",
       "    .dataframe thead th {\n",
       "        text-align: right;\n",
       "    }\n",
       "</style>\n",
       "<table border=\"1\" class=\"dataframe\">\n",
       "  <thead>\n",
       "    <tr style=\"text-align: right;\">\n",
       "      <th></th>\n",
       "      <th>x</th>\n",
       "      <th>y</th>\n",
       "    </tr>\n",
       "  </thead>\n",
       "  <tbody>\n",
       "    <tr>\n",
       "      <th>0</th>\n",
       "      <td>3</td>\n",
       "      <td>2</td>\n",
       "    </tr>\n",
       "    <tr>\n",
       "      <th>1</th>\n",
       "      <td>1</td>\n",
       "      <td>2</td>\n",
       "    </tr>\n",
       "    <tr>\n",
       "      <th>2</th>\n",
       "      <td>0</td>\n",
       "      <td>1</td>\n",
       "    </tr>\n",
       "    <tr>\n",
       "      <th>3</th>\n",
       "      <td>4</td>\n",
       "      <td>3</td>\n",
       "    </tr>\n",
       "    <tr>\n",
       "      <th>4</th>\n",
       "      <td>9</td>\n",
       "      <td>4</td>\n",
       "    </tr>\n",
       "    <tr>\n",
       "      <th>5</th>\n",
       "      <td>6</td>\n",
       "      <td>7</td>\n",
       "    </tr>\n",
       "    <tr>\n",
       "      <th>6</th>\n",
       "      <td>8</td>\n",
       "      <td>3</td>\n",
       "    </tr>\n",
       "    <tr>\n",
       "      <th>7</th>\n",
       "      <td>11</td>\n",
       "      <td>2</td>\n",
       "    </tr>\n",
       "  </tbody>\n",
       "</table>\n",
       "</div>"
      ],
      "text/plain": [
       "    x  y\n",
       "0   3  2\n",
       "1   1  2\n",
       "2   0  1\n",
       "3   4  3\n",
       "4   9  4\n",
       "5   6  7\n",
       "6   8  3\n",
       "7  11  2"
      ]
     },
     "execution_count": 52,
     "metadata": {},
     "output_type": "execute_result"
    }
   ],
   "source": [
    "df"
   ]
  },
  {
   "cell_type": "code",
   "execution_count": 53,
   "metadata": {},
   "outputs": [
    {
     "data": {
      "text/plain": [
       "8"
      ]
     },
     "execution_count": 53,
     "metadata": {},
     "output_type": "execute_result"
    }
   ],
   "source": [
    "len(df)"
   ]
  },
  {
   "cell_type": "code",
   "execution_count": 54,
   "metadata": {},
   "outputs": [
    {
     "data": {
      "text/plain": [
       "<matplotlib.collections.PathCollection at 0x7efe2e110cf8>"
      ]
     },
     "execution_count": 54,
     "metadata": {},
     "output_type": "execute_result"
    },
    {
     "data": {
      "image/png": "[encoded data removed]",
      "text/plain": [
       "<Figure size 432x288 with 1 Axes>"
      ]
     },
     "metadata": {
      "needs_background": "light"
     },
     "output_type": "display_data"
    }
   ],
   "source": [
    "plt.scatter(x=df['x'], y=df['y'])"
   ]
  },
  {
   "cell_type": "code",
   "execution_count": 55,
   "metadata": {},
   "outputs": [],
   "source": [
    "\"\"\"\n",
    "theta1 = intercept\n",
    "theta2 = slop\n",
    "\"\"\"\n",
    "#initialising theta1, theta2\n",
    "theta1, theta2 = 0, 1"
   ]
  },
  {
   "cell_type": "code",
   "execution_count": 56,
   "metadata": {},
   "outputs": [],
   "source": [
    "\"\"\"\n",
    "hypothesis-function \n",
    "\"\"\"\n",
    "def hypothesis(theta1, theta2):\n",
    "    _h = []\n",
    "    for i in range(len(df)):\n",
    "        _h.append(theta1+theta2*df['x'][i])\n",
    "    return _h"
   ]
  },
  {
   "cell_type": "code",
   "execution_count": 57,
   "metadata": {},
   "outputs": [
    {
     "data": {
      "text/plain": [
       "<matplotlib.collections.PathCollection at 0x7efe2e5328d0>"
      ]
     },
     "execution_count": 57,
     "metadata": {},
     "output_type": "execute_result"
    },
    {
     "data": {
      "image/png": "[encoded data removed]",
      "text/plain": [
       "<Figure size 432x288 with 1 Axes>"
      ]
     },
     "metadata": {
      "needs_background": "light"
     },
     "output_type": "display_data"
    }
   ],
   "source": [
    "plt.scatter(x=df['x'], y=hypothesis(theta1, theta2))"
   ]
  },
  {
   "cell_type": "code",
   "execution_count": 58,
   "metadata": {},
   "outputs": [],
   "source": [
    "\"\"\"\n",
    "calculating cost function\n",
    "1. for each value of x\n",
    "2. calculate [(h(x)-y)**2]\n",
    "3. div by 1/2m\n",
    "Note: m=lenght of dataset\n",
    "\"\"\"\n",
    "# _h = hypothesis()\n",
    "def cost_function(_h):\n",
    "    _cost = []\n",
    "    for i in range(len(df)):\n",
    "        _cost.append((_h[i]-df['y'][i])**2)\n",
    "#     print(_cost)\n",
    "#     print(sum(_cost))\n",
    "    return sum(_cost)/2*len(df)\n",
    "    "
   ]
  },
  {
   "cell_type": "code",
   "execution_count": 59,
   "metadata": {},
   "outputs": [],
   "source": [
    "# print(cost_function())"
   ]
  },
  {
   "cell_type": "code",
   "execution_count": null,
   "metadata": {},
   "outputs": [],
   "source": [
    "\"\"\"\n",
    "Gradient descent to minimise the cost function \n",
    "function to update theta1, theta2\n",
    "\"\"\"\n",
    "alpha = 0.01\n",
    "def update_theta(theta1, theta2):\n",
    "#     temp_theta1 = theta1 - alpha*((theta1+theta2))\n",
    "#     temp_theta2 = theta2 - alpha*(())\n",
    "    ret_val = []\n",
    "    derivativ_cal =[]\n",
    "    for i in range(len(df)):\n",
    "        derivativ_cal.append((theta1+theta2*df['x'][i])-df['y'][i])\n",
    "    print(\"derivativ_cal ==\", derivativ_cal)\n",
    "    temp_theta1 = theta1 - alpha*sum(derivativ_cal)\n",
    "    temp_theta2 = theta2 - alpha*sum(derivativ_cal)\n",
    "#     print(\"==\", temp_theta1, temp_theta2)\n",
    "    theta1 = temp_theta1\n",
    "    theta2 = temp_theta2\n",
    "    ret_val.append(theta1)\n",
    "    ret_val.append(theta2)\n",
    "    return ret_val\n",
    "        "
   ]
  },
  {
   "cell_type": "code",
   "execution_count": null,
   "metadata": {},
   "outputs": [],
   "source": [
    "count = 1000\n",
    "while True:\n",
    "#     theta1, theta2 = 0, 1\n",
    "    _h = hypothesis(theta1, theta2)\n",
    "    cerr = cost_function(_h)\n",
    "    print(f\"for theta theta 1= {theta1} , theta2 = {theta2}\")\n",
    "    print(\"cost-function is = \", cerr)\n",
    "    if cerr < 100:\n",
    "        break\n",
    "    val = update_theta(theta1, theta2)\n",
    "    print(\"val =\", val)\n",
    "    theta1 = val[0]\n",
    "    theta2 = val[1]\n",
    "    print(f\"theta update to theta 1= {theta1} , theta2 = {theta2}\")\n",
    "    count -= 1\n",
    "    print(\"==========================================================\")"
   ]
  },
  {
   "cell_type": "code",
   "execution_count": null,
   "metadata": {},
   "outputs": [],
   "source": []
  }
 ],
 "metadata": {
  "kernelspec": {
   "display_name": "Python 3",
   "language": "python",
   "name": "python3"
  },
  "language_info": {
   "codemirror_mode": {
    "name": "ipython",
    "version": 3
   },
   "file_extension": ".py",
   "mimetype": "text/x-python",
   "name": "python",
   "nbconvert_exporter": "python",
   "pygments_lexer": "ipython3",
   "version": "3.6.9"
  }
 },
 "nbformat": 4,
 "nbformat_minor": 4
}
